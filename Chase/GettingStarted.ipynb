{
 "cells": [
  {
   "cell_type": "markdown",
   "metadata": {},
   "source": [
    "# Getting Started with Julia\n",
    "\n",
    "Adapted on previous notebooks/slides prepared by Chase Coleman and Spencer Lyon\n",
    "\n",
    "Goal of this notebook is **not** to make you an expert julia programmer -- However, we do hope that it helps you see why julia can be powerful and encourages people to try julia out in their own use cases"
   ]
  },
  {
   "cell_type": "markdown",
   "metadata": {},
   "source": [
    "## Installation\n",
    "\n",
    "These instructions are mostly just a summary of the information included on\n",
    "\n",
    "https://lectures.quantecon.org/jl/getting_started.html\n",
    "\n",
    "Please see that page for more details\n",
    "\n",
    "* Go to https://julialang.org/downloads/ and download the Julia 0.6 which corresponds to your operating system\n",
    "* Once you have downloaded this file, follow the operating system specific instructions at https://julialang.org/downloads/platform.html\n",
    "\n",
    "**If you run into any trouble, please raise your hand and ask for help!**"
   ]
  },
  {
   "cell_type": "markdown",
   "metadata": {},
   "source": [
    "## Packages\n",
    "\n",
    "Julia comes with an automated package management system.\n",
    "\n",
    "### How does it work?\n",
    "\n",
    "Packages register themselves with the [higher power](https://github.com/tkelman).\n",
    "\n",
    "In order to become a registered package, some basic requirements such as tests, description of dependencies, and a descriptive `README` file.\n",
    "\n",
    "### Install and Uninstall (Registered) Packages\n",
    "\n",
    "Installation via `Pkg.add(\"PackageName\")`\n",
    "\n",
    "Uninstall via `Pkg.rm(\"PackageName\")`\n",
    "\n",
    "### Update Packages\n",
    "\n",
    "Update via `Pkg.update()`\n",
    "\n",
    "### Useful Packages\n",
    "\n",
    "A list of all registered packages (ordered by how many github star they have) can be found at: https://juliaobserver.com/packages\n",
    "\n",
    "Packages that we find particularly useful\n",
    "\n",
    "* [BasisMatrices.jl](https://github.com/QuantEcon/BasisMatrices.jl): Interpolation based on CompEcon library by Miranda and Fackler\n",
    "* [Distributions.jl](https://github.com/JuliaStats/Distributions.jl): Package for interfacing with various probability distributions\n",
    "* [Interpolations.jl](https://github.com/JuliaMath/Interpolations.jl): Interpolation library written by programmers in image processing field\n",
    "* [Optim.jl](https://github.com/JuliaNLSolvers/Optim.jl): A pure Julia version of many optimization routines\n",
    "* [Plots.jl](https://github.com/JuliaPlots/Plots.jl): An abstract plotting package which interfaces with various plotting backends\n",
    "* [QuantEcon.jl](https://github.com/QuantEcon/QuantEcon.jl): Contains many tools relevant to economists\n",
    "\n",
    "We have a separate [notebook](InstallPackages.ipynb) that will install many of these packages -- We will need them for Victoria's presentation. Please open this notebook and click `Cell > Run All`"
   ]
  },
  {
   "cell_type": "markdown",
   "metadata": {},
   "source": [
    "## Quick Syntax Intro\n",
    "\n",
    "Following example will illustrate how Julia syntax compares to any previous language you know"
   ]
  },
  {
   "cell_type": "code",
   "execution_count": null,
   "metadata": {
    "collapsed": true
   },
   "outputs": [],
   "source": [
    "# *1                          *2       *3\n",
    "function bisect(f, a, b, maxit=100, tol::Float64=1e-9)\n",
    "    fa, fb = f(a), f(b)\n",
    "    # *4       *5\n",
    "    for it in 1:maxit \n",
    "        mid = (a + b)/2\n",
    "        fmid = f(mid)\n",
    "        \n",
    "        # *6\n",
    "        if abs(fmid) < tol            \n",
    "            # *7\n",
    "            return mid\n",
    "        end\n",
    "\n",
    "        if fa*fmid > 0\n",
    "            fa, a = fmid, mid  \n",
    "        else\n",
    "            fb, b = fmid, mid\n",
    "        end\n",
    "    end\n",
    "    \n",
    "    # *8\n",
    "    error(\"maximum iterations exceeded\")\n",
    "    end  # Function"
   ]
  },
  {
   "cell_type": "markdown",
   "metadata": {},
   "source": [
    "1. Define new functions with `function ... end`\n",
    "2. Default arugments `(..., arg=default_value)`\n",
    "3. Typed arguments `(..., arg::Type)`\n",
    "4. For loop `for X (in|=) SOMETHING ... end`\n",
    "5. Create ranges `A:B` (not dense like Matlab)\n",
    "6. If statement `if CONDITION BLOCK end`\n",
    "7. Return statement `return STUFF` (optional, see next example)\n",
    "8. Throwing error `error(MESSAGE)`"
   ]
  },
  {
   "cell_type": "code",
   "execution_count": null,
   "metadata": {
    "collapsed": true
   },
   "outputs": [],
   "source": [
    "# shorthand function syntax\n",
    "f(x) = x^2-2\n",
    "\n",
    "# longer syntax --  equivalent to above\n",
    "function f2(x)\n",
    "    x^2-2\n",
    "end\n",
    "\n",
    "# even longer syntax -- still equivalent to above\n",
    "function f3(x)\n",
    "    return x^2-2\n",
    "end"
   ]
  },
  {
   "cell_type": "code",
   "execution_count": null,
   "metadata": {
    "collapsed": true
   },
   "outputs": [],
   "source": [
    "println(bisect(f, -5.0, 2.0))\n",
    "print(bisect(f2, -5.0, 2.0))\n",
    "println(bisect(f3, -5.0, 2.0))\n"
   ]
  },
  {
   "cell_type": "markdown",
   "metadata": {},
   "source": [
    "## What is a Type?\n",
    "\n",
    "A _type_ is a collection of information stored jointly by your computer.\n",
    "\n",
    "For example, one type that everyone is familiar with is a floating point number.\n",
    "\n",
    "What other types have people heard of?"
   ]
  },
  {
   "cell_type": "code",
   "execution_count": null,
   "metadata": {
    "collapsed": true
   },
   "outputs": [],
   "source": [
    "for obj in [1.0, 1, \"foo\", \"φ\", Int8(4), Float64, true]\n",
    "    # Notice string interpolation syntax `$`\n",
    "    println(\"$obj is a $(typeof(obj))\")\n",
    "end"
   ]
  },
  {
   "cell_type": "markdown",
   "metadata": {},
   "source": [
    "## Type Parameters\n",
    "\n",
    "A type parameter is additional information that provides you (and more importantly, the computer) with \"extra\" details about the type.\n",
    "\n",
    "Easiest to learn what this is by example"
   ]
  },
  {
   "cell_type": "code",
   "execution_count": null,
   "metadata": {
    "collapsed": true
   },
   "outputs": [],
   "source": [
    "A = [0, 1, 2, 3]\n",
    "A"
   ]
  },
  {
   "cell_type": "markdown",
   "metadata": {},
   "source": [
    "What does the `{Int64,1}` stand for?\n",
    "\n",
    "* First argument here represents the type of the elements in the array.\n",
    "* The second denotes the dimension of the array.\n",
    "\n",
    "Type parameters are most useful for writing generic code -- For now, it is enough to understand what they are and you will find more uses for your own code as your julia code becomes more \"julian\""
   ]
  },
  {
   "cell_type": "markdown",
   "metadata": {},
   "source": [
    "## Julia Types\n",
    "\n",
    "Now that we understand how to specialize functions on the types of its arguments, it is important to learn how to create our own types.\n",
    "\n",
    "You should frequently define your own types -- Julia's JIT compilation helps ensure that user defined types will have same performance as the base types.\n",
    "\n",
    "Example using stochastic processes below"
   ]
  },
  {
   "cell_type": "code",
   "execution_count": null,
   "metadata": {
    "collapsed": true
   },
   "outputs": [],
   "source": [
    "abstract type Exog end\n",
    "\n",
    "\n",
    "\"\"\"\n",
    "This type holds a Markov chain which consists of\n",
    "\n",
    "* stochastic matrix (Π)\n",
    "* state values (vals)\n",
    "* intial distribution (x0)\n",
    "\"\"\"\n",
    "struct MarkovChain{T} <: Exog\n",
    "    Π::Matrix{Float64}\n",
    "    vals::Vector{T}\n",
    "    x0::Vector{Float64}\n",
    "end\n",
    "\n",
    "# functions to give `vals` and `x0` default arguments\n",
    "MarkovChain(Π, v) = MarkovChain(Π, v, fill(1/length(v), length(v)))\n",
    "MarkovChain(Π) = MarkovChain(Π, collect(1:size(Π, 1)))"
   ]
  },
  {
   "cell_type": "code",
   "execution_count": null,
   "metadata": {},
   "outputs": [],
   "source": [
    "P = [0.5 0.5; 0.5 0.5]\n",
    "x0 = [0.5, 0.5]\n",
    "\n",
    "mc1 = MarkovChain(P, [\"Good\", \"Bad\"], x0)\n",
    "mc2 = MarkovChain(P, [1, 2], x0)"
   ]
  },
  {
   "cell_type": "code",
   "execution_count": null,
   "metadata": {},
   "outputs": [],
   "source": [
    "MarkovChain(P)"
   ]
  },
  {
   "cell_type": "code",
   "execution_count": null,
   "metadata": {},
   "outputs": [],
   "source": [
    "mc1"
   ]
  },
  {
   "cell_type": "code",
   "execution_count": null,
   "metadata": {},
   "outputs": [],
   "source": [
    "mc2"
   ]
  },
  {
   "cell_type": "markdown",
   "metadata": {},
   "source": [
    "#### Type Trees\n",
    "\n",
    "Types are organized in \"trees\"\n",
    "\n",
    "At the top is `Any` and at the bottom are concrete types\n",
    "\n",
    "Example: The abstract `Number` type"
   ]
  },
  {
   "cell_type": "code",
   "execution_count": null,
   "metadata": {
    "collapsed": true
   },
   "outputs": [],
   "source": [
    "println(typeof(1.0))\n",
    "println(supertype(typeof(1.0)))\n",
    "println(supertype(supertype(typeof(1.0))))\n",
    "println(supertype(supertype(supertype(typeof(1.0)))))"
   ]
  },
  {
   "cell_type": "code",
   "execution_count": null,
   "metadata": {
    "collapsed": true
   },
   "outputs": [],
   "source": [
    "println(typeof(1))\n",
    "println(supertype(typeof(1)))\n",
    "println(supertype(supertype(typeof(1))))\n",
    "println(supertype(supertype(supertype(typeof(1)))))\n",
    "println(supertype(supertype(supertype(supertype(typeof(1))))))"
   ]
  },
  {
   "cell_type": "code",
   "execution_count": null,
   "metadata": {},
   "outputs": [],
   "source": [
    "println(typeof(1//2))\n",
    "println(supertype(typeof(1//2)))\n",
    "println(supertype(supertype(typeof(1//2))))"
   ]
  },
  {
   "cell_type": "markdown",
   "metadata": {},
   "source": [
    "### Exercise:\n",
    "\n",
    "Write your own type (that is a subtype of `Exog`) that holds the parameters for an AR(1) described by\n",
    "\n",
    "$$y_{t+1} = \\rho y_t + \\sigma \\varepsilon_{t+1}$$\n",
    "\n",
    "Call the fields `rho` and `sigma`."
   ]
  },
  {
   "cell_type": "markdown",
   "metadata": {},
   "source": [
    "<button data-toggle=\"collapse\" data-target=\"#sol2\" class='btn btn-primary'>One Possible Solution</button>\n",
    "<div id=\"sol2\" class=\"collapse\">\n",
    "\n",
    "```julia\n",
    "\"\"\"\n",
    "This type holds parameters for an AR(1) of the form\n",
    "\n",
    "y_{t+1} = rho * y_{t} + sigma * eps\n",
    "\n",
    "where eps ~ N(0, 1)\n",
    "\"\"\"\n",
    "struct AR1 <: Exog\n",
    "    rho::Float64  # you should put types on the fields of your types\n",
    "    sigma::Float64\n",
    "end\n",
    "```"
   ]
  },
  {
   "cell_type": "markdown",
   "metadata": {},
   "source": [
    "## Multiple Dispatch\n",
    "\n",
    "One of the core benefits of an object oriented programming language is _single dispatch_ (the ability to specialize functions based on their first argument).\n",
    "\n",
    "Julia (and some other very recent languages) extend this concept to all arguments of a function.\n",
    "\n",
    "Easiest to understand this by seeing it in action."
   ]
  },
  {
   "cell_type": "markdown",
   "metadata": {},
   "source": [
    "### Pedagogical Example"
   ]
  },
  {
   "cell_type": "code",
   "execution_count": null,
   "metadata": {},
   "outputs": [],
   "source": [
    "g(x) = \"I have something\"\n",
    "g(x::Int) = \"I have an integer\"\n",
    "g(x::Float64) = \"I have a float\"\n",
    "g(x::Number) = \"I have some kind of number\"\n",
    "g(x::Array) = \"I have an array\"\n",
    "\n",
    "for x in (\"hello\", 1, 1.0, 1//2, [1, 2, 3])\n",
    "    @printf \"%-12s%s\\n\" \"g($x)\" g(x)\n",
    "end"
   ]
  },
  {
   "cell_type": "code",
   "execution_count": null,
   "metadata": {},
   "outputs": [],
   "source": [
    "g(x, y) = \"I have two things\"\n",
    "g(x::Int, y) = \"I have an integer and something else\"\n",
    "g(x::Int, y::Number) = \"I have an integer and a number\"\n",
    "g(x::Int, y::Int) = \"I have two integers\"\n",
    "g(x::Array, y::Array) = \"I have two arrays\"\n",
    "g(x::Array{Float64}, y::Array{Float64}) = \"I have two arrays that have floats\""
   ]
  },
  {
   "cell_type": "code",
   "execution_count": null,
   "metadata": {},
   "outputs": [],
   "source": [
    "stuff = ((\"x\", \"y\"), (1, \"x\"),  (1, 1//2), \n",
    "         (1, 2),  (1, 2.0), ([1], [2]), \n",
    "         ([1.0], [2.0]))\n",
    "\n",
    "for (x1, x2) in stuff\n",
    "    @printf \"%-18s%s\\n\" \"g($x1, $x2)\" g(x1, x2)\n",
    "end"
   ]
  },
  {
   "cell_type": "markdown",
   "metadata": {},
   "source": [
    "### Slightly More Useful Example\n",
    "\n",
    "The package distributions does an excellent job of leveraging multiple dispatch\n",
    "\n",
    "In MATLAB\n",
    "* to draw (up to $n$ draws) from a $U(0, 1)$ the command would be `rand(n)`\n",
    "* to draw (up to $n$ draws) from a $\\Gamma(\\alpha, \\beta)$ the command would be `gamrnd(n)`\n"
   ]
  },
  {
   "cell_type": "code",
   "execution_count": null,
   "metadata": {
    "collapsed": true
   },
   "outputs": [],
   "source": [
    "using Distributions"
   ]
  },
  {
   "cell_type": "code",
   "execution_count": null,
   "metadata": {
    "collapsed": true
   },
   "outputs": [],
   "source": [
    "rv_gamma = Gamma(2.0, 2.0)"
   ]
  },
  {
   "cell_type": "code",
   "execution_count": null,
   "metadata": {
    "collapsed": true
   },
   "outputs": [],
   "source": [
    "rv_gamma"
   ]
  },
  {
   "cell_type": "code",
   "execution_count": null,
   "metadata": {
    "collapsed": true
   },
   "outputs": [],
   "source": [
    "srand(42)"
   ]
  },
  {
   "cell_type": "code",
   "execution_count": null,
   "metadata": {},
   "outputs": [],
   "source": [
    "rand()"
   ]
  },
  {
   "cell_type": "code",
   "execution_count": null,
   "metadata": {
    "collapsed": true
   },
   "outputs": [],
   "source": [
    "rand(rv_gamma)"
   ]
  },
  {
   "cell_type": "code",
   "execution_count": null,
   "metadata": {
    "collapsed": true
   },
   "outputs": [],
   "source": [
    "rand(5)"
   ]
  },
  {
   "cell_type": "code",
   "execution_count": null,
   "metadata": {
    "collapsed": true
   },
   "outputs": [],
   "source": [
    "rand(rv_gamma, 5)"
   ]
  },
  {
   "cell_type": "code",
   "execution_count": null,
   "metadata": {
    "collapsed": true
   },
   "outputs": [],
   "source": [
    "function simulate(rho::Float64, d::Distribution; capT=500)\n",
    "    x = Array{Float64}(capT)\n",
    "    x[1] = 0.0\n",
    "\n",
    "    for t in 2:capT\n",
    "        x[t] = rho*x[t-1] + rand(d)\n",
    "    end\n",
    "\n",
    "    return x\n",
    "end"
   ]
  },
  {
   "cell_type": "code",
   "execution_count": null,
   "metadata": {},
   "outputs": [],
   "source": [
    "simulate(0.9, Normal(0.0, 0.1))"
   ]
  },
  {
   "cell_type": "code",
   "execution_count": null,
   "metadata": {},
   "outputs": [],
   "source": [
    "simulate(0.9, Beta(4.0, 7.0))"
   ]
  },
  {
   "cell_type": "markdown",
   "metadata": {},
   "source": [
    "### Another useful example"
   ]
  },
  {
   "cell_type": "code",
   "execution_count": null,
   "metadata": {},
   "outputs": [],
   "source": [
    "function iter(mc::MarkovChain, s::Int)\n",
    "    ind = searchsortedfirst(cumsum(vec(mc.Π[s, :])), rand())\n",
    "    return mc.vals[ind]\n",
    "end\n",
    "\n",
    "iter{T}(mc::MarkovChain{T}, v::T) = iter(mc, findfirst(mc.vals, v))\n",
    "iter(::Exog, x) = error(\"iter should be implemented by each Exog subtype\")\n",
    "\n",
    "iter(ar::AR1, x) = ar.rho*x + ar.sigma*randn()\n"
   ]
  },
  {
   "cell_type": "markdown",
   "metadata": {},
   "source": [
    "### Exercise\n",
    "\n",
    "Write a function called `iter` that takes an `AR1` process and a value for $x_t$ and produces an $x_{t+1}$"
   ]
  },
  {
   "cell_type": "markdown",
   "metadata": {},
   "source": [
    "<button data-toggle=\"collapse\" data-target=\"#sol3\" class='btn btn-primary'>One Possible Solution</button>\n",
    "<div id=\"sol3\" class=\"collapse\">\n",
    "\n",
    "```julia\n",
    "iter(ar1::AR1, x) = ar1.rho*x + ar1.sigma*randn()\n",
    "```"
   ]
  },
  {
   "cell_type": "code",
   "execution_count": null,
   "metadata": {},
   "outputs": [],
   "source": [
    "state_type(ar1::AR1) = Float64\n",
    "state_type(mc::MarkovChain) = eltype(mc.vals)\n",
    "\n",
    "function simulate{T<:Exog}(s::T, x0; capT=1000)\n",
    "    # Allocate memory\n",
    "    out = Array{state_type(s)}(capT)\n",
    "\n",
    "    # Simulate\n",
    "    out[1] = x0\n",
    "    for t = 2:capT\n",
    "        out[t] = iter(s, out[t-1])\n",
    "    end\n",
    "\n",
    "    return out\n",
    "end"
   ]
  },
  {
   "cell_type": "code",
   "execution_count": null,
   "metadata": {
    "scrolled": true
   },
   "outputs": [],
   "source": [
    "ar1 = AR1(0.9, 0.1)\n",
    "\n",
    "@time simulate(ar1, 0.0; capT=10_000_000);"
   ]
  },
  {
   "cell_type": "code",
   "execution_count": null,
   "metadata": {},
   "outputs": [],
   "source": [
    "simulate(ar1, 0.0; capT=5000)"
   ]
  },
  {
   "cell_type": "code",
   "execution_count": null,
   "metadata": {},
   "outputs": [],
   "source": [
    "mc = MarkovChain([0.75 0.25; 0.25 0.75], [1.0, 2.0])\n",
    "\n",
    "@time simulate(mc, mc.vals[1]; capT=10_000_000);"
   ]
  },
  {
   "cell_type": "markdown",
   "metadata": {},
   "source": [
    "## Misc Interesting Links\n",
    "\n",
    "* Tom Sargent [JuliaCon keynote](https://www.youtube.com/watch?v=KkKBwJkYgVk&t) on why economists should be interested in Julia\n",
    "* NYFed [blogpost](http://libertystreeteconomics.newyorkfed.org/2017/05/forecasting-with-julia.html) on moving their [forecasting models](https://github.com/FRBNY-DSGE/DSGE-2014-Sep) from Matlab to Julia\n",
    "* Brad Setzler's [tutorials](https://juliaeconomics.com/) on Julia for economists\n"
   ]
  },
  {
   "cell_type": "code",
   "execution_count": null,
   "metadata": {
    "collapsed": true
   },
   "outputs": [],
   "source": []
  }
 ],
 "metadata": {
  "anaconda-cloud": {},
  "kernelspec": {
   "display_name": "Julia 0.6.0",
   "language": "julia",
   "name": "julia-0.6"
  },
  "language_info": {
   "file_extension": ".jl",
   "mimetype": "application/julia",
   "name": "julia",
   "version": "0.6.0"
  }
 },
 "nbformat": 4,
 "nbformat_minor": 2
}
